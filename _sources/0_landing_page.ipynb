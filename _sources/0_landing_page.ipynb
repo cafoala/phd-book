{
 "cells": [
  {
   "cell_type": "markdown",
   "id": "a4c07172-ecbb-4659-b372-df132c7ad164",
   "metadata": {},
   "source": [
    "# Introduction"
   ]
  },
  {
   "cell_type": "markdown",
   "id": "a1dc5e67-83c9-4819-a57a-c7057b683e37",
   "metadata": {
    "jp-MarkdownHeadingCollapsed": true,
    "tags": []
   },
   "source": [
    "This is a book that showcases the work I'm doing on my PhD at University of Exeter"
   ]
  },
  {
   "cell_type": "markdown",
   "id": "e2d7cf29-1010-42a8-8942-2d5afef1f82a",
   "metadata": {
    "tags": []
   },
   "source": [
    "## The team"
   ]
  },
  {
   "cell_type": "markdown",
   "id": "10c6a8bd-7d58-435d-8706-d127833f1d7b",
   "metadata": {
    "tags": []
   },
   "source": [
    "Cat Russon, https://medicine.exeter.ac.uk/people/profile/index.php?web_id=Cat_Russon\n",
    "\n",
    "Mike Allen, https://medicine.exeter.ac.uk/people/profile/index.php?web_id=Michael_Allen\n",
    "\n",
    "Rob Andrews, http://medicine.exeter.ac.uk/people/profile/index.php?web_id=Rob_Andrews\n",
    "\n",
    "Richard Pulsford, https://sshs.exeter.ac.uk/staff/profile/index.php?web_id=Richard_Pulsford\n",
    "\n",
    "Neil Vaughan, https://medicine.exeter.ac.uk/people/profile/index.php?web_id=Neil_Vaughan"
   ]
  },
  {
   "cell_type": "code",
   "execution_count": null,
   "id": "e2cd6ee5-f279-4ed4-bcb6-7209d60330c7",
   "metadata": {},
   "outputs": [],
   "source": []
  }
 ],
 "metadata": {
  "kernelspec": {
   "display_name": "Python 3 (ipykernel)",
   "language": "python",
   "name": "python3"
  },
  "language_info": {
   "codemirror_mode": {
    "name": "ipython",
    "version": 3
   },
   "file_extension": ".py",
   "mimetype": "text/x-python",
   "name": "python",
   "nbconvert_exporter": "python",
   "pygments_lexer": "ipython3",
   "version": "3.7.10"
  }
 },
 "nbformat": 4,
 "nbformat_minor": 5
}
