{
 "cells": [
  {
   "cell_type": "markdown",
   "id": "a4c07172-ecbb-4659-b372-df132c7ad164",
   "metadata": {},
   "source": [
    "# Utilising machine learning to predict hypo- and hyper-glycemia during exercise in people with type 1 diabetes"
   ]
  },
  {
   "cell_type": "markdown",
   "id": "a1dc5e67-83c9-4819-a57a-c7057b683e37",
   "metadata": {},
   "source": [
    "## Catherine Russon, PhD student"
   ]
  },
  {
   "cell_type": "markdown",
   "id": "10c6a8bd-7d58-435d-8706-d127833f1d7b",
   "metadata": {},
   "source": [
    "##### Supervisors: Mike Allen, Neil Vaughan, Rob Andrews, Richard Pulsford"
   ]
  },
  {
   "cell_type": "code",
   "execution_count": null,
   "id": "9c3ab669-4bd2-4ff9-bdd1-ea9fc00f8ac2",
   "metadata": {},
   "outputs": [],
   "source": []
  }
 ],
 "metadata": {
  "kernelspec": {
   "display_name": "Python 3 (ipykernel)",
   "language": "python",
   "name": "python3"
  },
  "language_info": {
   "codemirror_mode": {
    "name": "ipython",
    "version": 3
   },
   "file_extension": ".py",
   "mimetype": "text/x-python",
   "name": "python",
   "nbconvert_exporter": "python",
   "pygments_lexer": "ipython3",
   "version": "3.7.10"
  }
 },
 "nbformat": 4,
 "nbformat_minor": 5
}
