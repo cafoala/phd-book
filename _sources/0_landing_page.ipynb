{
 "cells": [
  {
   "cell_type": "markdown",
   "id": "a4c07172-ecbb-4659-b372-df132c7ad164",
   "metadata": {},
   "source": [
    "# Welcome to my first Jupyter Book"
   ]
  },
  {
   "cell_type": "markdown",
   "id": "a1dc5e67-83c9-4819-a57a-c7057b683e37",
   "metadata": {},
   "source": [
    "I'm going to tell you all about my PhD, you lucky thing!"
   ]
  },
  {
   "cell_type": "code",
   "execution_count": null,
   "id": "892e2737-1b2f-4a83-8ad3-90bd84a8e069",
   "metadata": {},
   "outputs": [],
   "source": []
  }
 ],
 "metadata": {
  "kernelspec": {
   "display_name": "Python 3",
   "language": "python",
   "name": "python3"
  },
  "language_info": {
   "codemirror_mode": {
    "name": "ipython",
    "version": 3
   },
   "file_extension": ".py",
   "mimetype": "text/x-python",
   "name": "python",
   "nbconvert_exporter": "python",
   "pygments_lexer": "ipython3",
   "version": "3.8.5"
  }
 },
 "nbformat": 4,
 "nbformat_minor": 5
}
