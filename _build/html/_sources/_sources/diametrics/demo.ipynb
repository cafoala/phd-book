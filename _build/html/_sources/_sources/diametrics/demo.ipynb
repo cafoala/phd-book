{
 "cells": [
  {
   "attachments": {},
   "cell_type": "markdown",
   "metadata": {},
   "source": [
    "# Diametrics Package and Web App"
   ]
  },
  {
   "attachments": {},
   "cell_type": "markdown",
   "metadata": {},
   "source": []
  }
 ],
 "metadata": {
  "kernelspec": {
   "display_name": "package_play",
   "language": "python",
   "name": "python3"
  },
  "language_info": {
   "name": "python",
   "version": "3.9.16"
  },
  "orig_nbformat": 4,
  "vscode": {
   "interpreter": {
    "hash": "c10053011fb043c31a3c6bdb0be69e4ab8cd05542c0cbe3000462b39ae896f3b"
   }
  }
 },
 "nbformat": 4,
 "nbformat_minor": 2
}
